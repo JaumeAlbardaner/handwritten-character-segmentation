{
 "cells": [
  {
   "attachments": {},
   "cell_type": "markdown",
   "metadata": {},
   "source": [
    "# Testing"
   ]
  },
  {
   "cell_type": "code",
   "execution_count": 1,
   "metadata": {},
   "outputs": [],
   "source": [
    "import os\n",
    "import cv2\n",
    "import tensorflow as tf\n",
    "from tensorflow import keras\n",
    "import matplotlib.pyplot as plt \n",
    "import numpy as np\n"
   ]
  },
  {
   "attachments": {},
   "cell_type": "markdown",
   "metadata": {},
   "source": [
    "### Auxiliary functions for model generation"
   ]
  },
  {
   "cell_type": "code",
   "execution_count": 2,
   "metadata": {},
   "outputs": [],
   "source": [
    "from tensorflow.keras import layers\n",
    "\n",
    "\n",
    "def get_UNN_model(img_size, num_classes):\n",
    "    inputs = keras.Input(shape=img_size + (3,))\n",
    "\n",
    "    ### [First half of the network: downsampling inputs] ###\n",
    "\n",
    "    # Entry block\n",
    "    x = layers.Conv2D(32, 3, strides=2, padding=\"same\")(inputs)\n",
    "    x = layers.BatchNormalization()(x)\n",
    "    x = layers.Activation(\"relu\")(x)\n",
    "\n",
    "    previous_block_activation = x  # Set aside residual\n",
    "\n",
    "    # Blocks 1, 2, 3 are identical apart from the feature depth.\n",
    "    for filters in [64, 128, 256]:\n",
    "        x = layers.Activation(\"relu\")(x)\n",
    "        x = layers.SeparableConv2D(filters, 3, padding=\"same\")(x)\n",
    "        x = layers.BatchNormalization()(x)\n",
    "\n",
    "        x = layers.Activation(\"relu\")(x)\n",
    "        x = layers.SeparableConv2D(filters, 3, padding=\"same\")(x)\n",
    "        x = layers.BatchNormalization()(x)\n",
    "\n",
    "        x = layers.MaxPooling2D(3, strides=2, padding=\"same\")(x)\n",
    "\n",
    "        # Project residual\n",
    "        residual = layers.Conv2D(filters, 1, strides=2, padding=\"same\")(\n",
    "            previous_block_activation\n",
    "        )\n",
    "\n",
    "        drop = layers.SpatialDropout2D(0.2)(x)\n",
    "\n",
    "        x = layers.add([x, residual, drop])  # Add back residual and dropout\n",
    "        previous_block_activation = x  # Set aside next residual\n",
    "\n",
    "    ### [Second half of the network: upsampling inputs] ###\n",
    "\n",
    "    for filters in [256, 128, 64, 32]:\n",
    "        x = layers.Activation(\"relu\")(x)\n",
    "        x = layers.Conv2DTranspose(filters, 3, padding=\"same\")(x)\n",
    "        x = layers.BatchNormalization()(x)\n",
    "\n",
    "        x = layers.Activation(\"relu\")(x)\n",
    "        x = layers.Conv2DTranspose(filters, 3, padding=\"same\")(x)\n",
    "        x = layers.BatchNormalization()(x)\n",
    "\n",
    "        x = layers.UpSampling2D(2)(x)\n",
    "\n",
    "        # Project residual\n",
    "        residual = layers.UpSampling2D(2)(previous_block_activation)\n",
    "        residual = layers.Conv2D(filters, 1, padding=\"same\")(residual)\n",
    "        drop = layers.SpatialDropout2D(0.2)(x)\n",
    "\n",
    "        x = layers.add([x, residual, drop])  # Add back residual and dropout\n",
    "        previous_block_activation = x  # Set aside next residual\n",
    "\n",
    "    # Add a per-pixel classification layer\n",
    "    outputs = layers.Conv2D(num_classes, 3, activation=\"softmax\", padding=\"same\")(x)\n",
    "\n",
    "    # Define the model\n",
    "    model = keras.Model(inputs, outputs)\n",
    "    return model\n",
    "\n",
    "def get_CNN_model(img_size,number_of_classes):\n",
    "    model = tf.keras.Sequential([ \n",
    "        tf.keras.layers.Conv2D(32,3,input_shape=(img_size[0],img_size[1],1)),\n",
    "        tf.keras.layers.MaxPooling2D(2,2),\n",
    "        tf.keras.layers.Flatten(input_shape=(img_size[0],img_size[1],1)),\n",
    "        tf.keras.layers.Dense(512,activation='relu'),\n",
    "        tf.keras.layers.Dense(128,activation='relu'),\n",
    "        tf.keras.layers.Dense(number_of_classes,activation='softmax')\n",
    "    ])\n",
    "    return model"
   ]
  },
  {
   "attachments": {},
   "cell_type": "markdown",
   "metadata": {},
   "source": [
    "### Load CNN and UNet models"
   ]
  },
  {
   "cell_type": "code",
   "execution_count": 3,
   "metadata": {},
   "outputs": [],
   "source": [
    "UNet_path = \"../../UNet/emnist.h5\"\n",
    "CNN_path = \"../../CNN/CNN.h5\"\n",
    "\n",
    "letter_size = (28,28)\n",
    "images_size = (160,160)\n",
    "num_classes = 27\n",
    "\n",
    "UNet_model = get_UNN_model(images_size, num_classes)\n",
    "UNet_model.load_weights(UNet_path)\n",
    "\n",
    "CNN_model = get_CNN_model(letter_size,num_classes)\n",
    "CNN_model.load_weights(CNN_path)\n"
   ]
  },
  {
   "attachments": {},
   "cell_type": "markdown",
   "metadata": {},
   "source": [
    "### Apply UNet on image\n",
    "\n",
    "Given that the text in the images will be known, the pixels in the image are expected to belong to certain classes (one per letter). "
   ]
  },
  {
   "cell_type": "code",
   "execution_count": 7,
   "metadata": {},
   "outputs": [
    {
     "name": "stdout",
     "output_type": "stream",
     "text": [
      "1/1 [==============================] - 0s 16ms/step\n"
     ]
    },
    {
     "data": {
      "text/plain": [
       "<matplotlib.image.AxesImage at 0x7fc36c027d90>"
      ]
     },
     "execution_count": 7,
     "metadata": {},
     "output_type": "execute_result"
    },
    {
     "data": {
      "image/png": "[encoded data removed]",
      "text/plain": [
       "<Figure size 432x288 with 1 Axes>"
      ]
     },
     "metadata": {
      "needs_background": "light"
     },
     "output_type": "display_data"
    }
   ],
   "source": [
    "from tensorflow.keras.utils import load_img\n",
    "\n",
    "testimg_path = \"../../UNet/XTest/1.png\"\n",
    "\n",
    "x = np.zeros((1,) + images_size + (3,), dtype=\"float32\")\n",
    "x[0] = load_img(testimg_path,target_size=images_size)\n",
    "\n",
    "test_preds = UNet_model.predict(x)\n",
    "\n",
    "letter_indexes = [0,5,8,20] #Numbers corresponding to background and letters e,h and t\n",
    "\n",
    "predicted_mask = np.argmax(test_preds[:,:,:,letter_indexes], axis=-1)\n",
    "plt.imshow(predicted_mask[0,:,:])"
   ]
  },
  {
   "cell_type": "code",
   "execution_count": 5,
   "metadata": {},
   "outputs": [
    {
     "name": "stdout",
     "output_type": "stream",
     "text": [
      "14 66 11 148\n"
     ]
    }
   ],
   "source": [
    "#Find the bounding box of letter 1\n",
    "segmentation = np.where(predicted_mask[0] == 3)\n",
    "bbox = 0, 0, 0, 0\n",
    "x_min = int(np.min(segmentation[1]))\n",
    "x_max = int(np.max(segmentation[1]))\n",
    "y_min = int(np.min(segmentation[0]))\n",
    "y_max = int(np.max(segmentation[0]))\n",
    "\n",
    "print(x_min,x_max,y_min,y_max)"
   ]
  },
  {
   "attachments": {},
   "cell_type": "markdown",
   "metadata": {},
   "source": [
    "**REMEMBER TO TRANSPOSE THE IMAGES BEFORE INPUTTING TO CNN**"
   ]
  },
  {
   "cell_type": "code",
   "execution_count": 171,
   "metadata": {},
   "outputs": [],
   "source": [
    "from tensorflow.keras.preprocessing import image\n",
    "from PIL import ImageOps\n",
    "\n",
    "char_cropped = image.img_to_array(cv2.transpose(x[0]))\n",
    "char_cropped = char_cropped[x_min:x_max,y_min:y_max, :]\n",
    "char_cropped = image.array_to_img(char_cropped)\n",
    "\n",
    "char_resized = ImageOps.grayscale(char_cropped.resize(letter_size))\n"
   ]
  },
  {
   "cell_type": "code",
   "execution_count": 172,
   "metadata": {},
   "outputs": [
    {
     "data": {
      "text/plain": [
       "<matplotlib.image.AxesImage at 0x7f9ce01917c0>"
      ]
     },
     "execution_count": 172,
     "metadata": {},
     "output_type": "execute_result"
    },
    {
     "data": {
      "image/png": "[encoded data removed]",
      "text/plain": [
       "<Figure size 432x288 with 1 Axes>"
      ]
     },
     "metadata": {
      "needs_background": "light"
     },
     "output_type": "display_data"
    }
   ],
   "source": [
    "\n",
    "inputImg = (255-image.img_to_array(char_resized))/255.0\n",
    "input_arr = np.array([inputImg])  # Convert single image to a batch.\n",
    "\n",
    "plt.imshow(image.array_to_img(inputImg))"
   ]
  },
  {
   "cell_type": "code",
   "execution_count": 173,
   "metadata": {},
   "outputs": [
    {
     "name": "stdout",
     "output_type": "stream",
     "text": [
      "1/1 [==============================] - 0s 14ms/step\n"
     ]
    },
    {
     "data": {
      "text/plain": [
       "array([[1.72196840e-10, 8.11068549e-06, 1.38198862e-11, 1.24343505e-14,\n",
       "        3.45980288e-06, 1.39156898e-11, 2.04247463e-05, 8.42210648e-06,\n",
       "        5.09429128e-07, 4.50840707e-06, 2.22948976e-04, 2.13374511e-14,\n",
       "        1.30580056e-05, 4.66414234e-12, 3.13511044e-12, 5.48679808e-13,\n",
       "        2.16285687e-11, 4.73485358e-07, 6.07942448e-14, 9.79405890e-10,\n",
       "        9.99043763e-01, 3.47874659e-12, 4.07825690e-10, 2.10772900e-13,\n",
       "        1.68790970e-09, 6.74272538e-04, 8.28678992e-08]], dtype=float32)"
      ]
     },
     "execution_count": 173,
     "metadata": {},
     "output_type": "execute_result"
    }
   ],
   "source": [
    "predictions = CNN_model.predict(input_arr)\n",
    "predictions"
   ]
  },
  {
   "cell_type": "code",
   "execution_count": 174,
   "metadata": {},
   "outputs": [
    {
     "name": "stdout",
     "output_type": "stream",
     "text": [
      "[20]\n"
     ]
    },
    {
     "data": {
      "text/plain": [
       "'t'"
      ]
     },
     "execution_count": 174,
     "metadata": {},
     "output_type": "execute_result"
    }
   ],
   "source": [
    "predicted_letters = np.argmax(predictions[:,:], axis=-1)\n",
    "print(predicted_letters)\n",
    "\"0abcdefghijklmnopqrstuvwxyz\"[predicted_letters[0]]"
   ]
  },
  {
   "cell_type": "code",
   "execution_count": 142,
   "metadata": {},
   "outputs": [
    {
     "data": {
      "text/plain": [
       "12"
      ]
     },
     "execution_count": 142,
     "metadata": {},
     "output_type": "execute_result"
    }
   ],
   "source": [
    "predicted_mask[0]"
   ]
  }
 ],
 "metadata": {
  "kernelspec": {
   "display_name": "Python 3",
   "language": "python",
   "name": "python3"
  },
  "language_info": {
   "codemirror_mode": {
    "name": "ipython",
    "version": 3
   },
   "file_extension": ".py",
   "mimetype": "text/x-python",
   "name": "python",
   "nbconvert_exporter": "python",
   "pygments_lexer": "ipython3",
   "version": "3.8.10"
  },
  "orig_nbformat": 4
 },
 "nbformat": 4,
 "nbformat_minor": 2
}
